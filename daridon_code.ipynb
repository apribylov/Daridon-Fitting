{
 "cells": [
  {
   "cell_type": "markdown",
   "id": "b0b18c48",
   "metadata": {},
   "source": [
    "## Основной код"
   ]
  },
  {
   "cell_type": "markdown",
   "id": "d408db10",
   "metadata": {},
   "source": [
    "### Коэффициент изобарного расширения рассчитывается на изобарах как функция температуры."
   ]
  },
  {
   "cell_type": "code",
   "execution_count": 1,
   "id": "6c35c8bc",
   "metadata": {},
   "outputs": [],
   "source": [
    "import numpy as np\n",
    "from scipy.optimize import curve_fit, least_squares\n",
    "\n",
    "# Словарь для хранения коэффициентов регрессии. Ключи - значения давления\n",
    "fit_coefs = {}\n",
    "\n",
    "# для регрессии плотности посредством минимизации L2-нормы\n",
    "def rho_Dar_fit(T, a0, a1, m, n):\n",
    "    return (a0 + a1*T**(1/m))**(1/n)\n",
    "\n",
    "# для регрессии плотности посредством минимизации L1-нормы\n",
    "def rho_Dar_fit_l1(coefs, T, y):\n",
    "    return (coefs[0] + coefs[1]*T**(1/coefs[2]))**(1/coefs[3]) - y\n",
    "\n",
    "# Функция для получения знаений коэффициентов регрессии\n",
    "# Вход: словарь {p: {'T': list, 'rho': list}}\n",
    "# где p - зныение давления; 'T' - лист со значениями температуры; 'rho' - лист со значениями плотности\n",
    "def fit_data(data):\n",
    "    \n",
    "    for p in data.keys():\n",
    "        \n",
    "        if len(data[p]['T']) < 8:\n",
    "            print(f'Skipping P={p}: too few datapoints')\n",
    "            continue\n",
    "        \n",
    "        Ts = np.array(data[p]['T'])\n",
    "        rhos = np.array(data[p]['rho'])\n",
    "            \n",
    "        fit0 = np.polyfit(Ts/Ts.mean(), rhos/rhos.mean(), 1)\n",
    "        try:\n",
    "            fit = curve_fit(rho_Dar_fit, Ts/Ts.mean(), rhos/rhos.mean(), p0=(fit0[1], fit0[0], 1, 1))\n",
    "            fit_coefs[p] = [fit[0][0]*rhos.mean()**fit[0][3], \n",
    "                            fit[0][1]*rhos.mean()**fit[0][3]/Ts.mean()**(1/fit[0][2]), fit[0][2], fit[0][3]]\n",
    "        except:\n",
    "            try:\n",
    "                fit = least_squares(rho_Dar_fit_l1, x0=(fit0[1], fit0[0], 1, 1),  \n",
    "                                    args=(Ts/Ts.mean(), rhos/rhos.mean()), loss='soft_l1')\n",
    "                fit_coefs[p] = [fit.x[0]*rhos.mean()**fit.x[3], \n",
    "                                fit.x[1]*rhos.mean()**fit.x[3]/Ts.mean()**(1/fit.x[2]), fit.x[2], fit.x[3]]\n",
    "            except:\n",
    "                print(f'Skipping P={p}: failed fitting')\n",
    "                continue\n",
    "                \n",
    "# Функция для расчета значений коэффициента термического расширения\n",
    "# перед использованием необходим вызов функции fit_data\n",
    "def ap_pred(P, T):\n",
    "    a0, a1, m, n = fit_coefs[P][0], fit_coefs[P][1], fit_coefs[P][2], fit_coefs[P][3]\n",
    "    return -1/rho_Dar_fit(T, a0, a1, m, n)/n * (a0 + a1*T**(1/m))**(1/n-1) * (a1/m*T**(1/m-1))"
   ]
  },
  {
   "cell_type": "markdown",
   "id": "3b0938a8",
   "metadata": {},
   "source": [
    "## Пример\n",
    "\n",
    "### $\\alpha_p$ жидкого толуола при давлениях 50 и 70 МПа"
   ]
  },
  {
   "cell_type": "code",
   "execution_count": 2,
   "id": "6324f489",
   "metadata": {},
   "outputs": [
    {
     "name": "stdout",
     "output_type": "stream",
     "text": [
      "0.0008555213765571343\n",
      "0.0008091745130009482\n"
     ]
    }
   ],
   "source": [
    "data = {\n",
    "    50: {\n",
    "        'T':   [283.15, 298.15, 308.15, 318.15, 323.15, 333.15, 348.15, 353.15, 373.15, 398.15],\n",
    "        'rho': [906.60, 894.90, 887.40, 879.70, 875.90, 868.40, 857.20, 853.30, 838.90, 819.60]\n",
    "    },\n",
    "    \n",
    "    70: {\n",
    "        'T':   [222.51, 248.32, 298.28, 283.15, 298.15, 323.15, 333.15, 348.15, 373.15, 398.15],\n",
    "        'rho': [963.45, 943.35, 906.88, 916.40, 905.50, 887.60, 880.60, 870.10, 853.10, 835.10]\n",
    "    }\n",
    "}\n",
    "\n",
    "fit_data(data)\n",
    "\n",
    "# значение коэффициента термического расшиерния при p=50 МПа и T=300 K\n",
    "print(ap_pred(50, 300))    # K^-1\n",
    "\n",
    "# значение коэффициента термического расшиерния при p=70 МПа и T=350 K\n",
    "print(ap_pred(70, 350))    # K^-1"
   ]
  }
 ],
 "metadata": {
  "kernelspec": {
   "display_name": "Python 3 (ipykernel)",
   "language": "python",
   "name": "python3"
  },
  "language_info": {
   "codemirror_mode": {
    "name": "ipython",
    "version": 3
   },
   "file_extension": ".py",
   "mimetype": "text/x-python",
   "name": "python",
   "nbconvert_exporter": "python",
   "pygments_lexer": "ipython3",
   "version": "3.9.12"
  }
 },
 "nbformat": 4,
 "nbformat_minor": 5
}
